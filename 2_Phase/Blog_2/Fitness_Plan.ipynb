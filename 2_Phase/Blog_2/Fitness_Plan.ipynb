{
 "cells": [
  {
   "cell_type": "markdown",
   "id": "51fd488b-6c18-49b7-bfd8-164bc8711178",
   "metadata": {},
   "source": [
    "## Fitness Membership Plan Comparison"
   ]
  },
  {
   "cell_type": "markdown",
   "id": "71cadf4e-1de0-4cee-820c-3692bb03b0ea",
   "metadata": {},
   "source": [
    "I've just moved back to Portland, Oregon for three months and I'm looking for a short-term gym membership. I found one in my neighborhood called [NW Women's Fitness](https://www.nwwomensfitness.com/?utm_medium=cpc&utm_source=google&utm_campaign=ii_branded&utm_term=nw%20women%27s%20fitness). I wanted to compare membership plans to make the best choice!"
   ]
  },
  {
   "cell_type": "markdown",
   "id": "50e7b441-1557-4457-9fba-6c869efc325a",
   "metadata": {
    "jp-MarkdownHeadingCollapsed": true
   },
   "source": [
    "The first membership plan is called 'Loving Life' and it is 75 dollars a month, plus a $27 Joining Fee."
   ]
  },
  {
   "cell_type": "code",
   "execution_count": 6,
   "id": "f7b22596-0538-40e7-8f72-14557b7ee07f",
   "metadata": {},
   "outputs": [
    {
     "data": {
      "text/plain": [
       "252"
      ]
     },
     "execution_count": 6,
     "metadata": {},
     "output_type": "execute_result"
    }
   ],
   "source": [
    "x = 3\n",
    "LovingLife = (75*x) + 27\n",
    "LovingLife"
   ]
  },
  {
   "cell_type": "markdown",
   "id": "d059fc67-db5a-4b0b-bb8d-847f0b3f5edc",
   "metadata": {},
   "source": [
    "The second membership plan is called 'Energy' and it is 65 dollars a month, plus a $335 Joining Fee."
   ]
  },
  {
   "cell_type": "code",
   "execution_count": 9,
   "id": "28ee3ad2-fc29-43b0-8903-d44cbc402748",
   "metadata": {},
   "outputs": [
    {
     "data": {
      "text/plain": [
       "530"
      ]
     },
     "execution_count": 9,
     "metadata": {},
     "output_type": "execute_result"
    }
   ],
   "source": [
    "x = 3\n",
    "Energy = (65*x) + 335\n",
    "Energy"
   ]
  },
  {
   "cell_type": "markdown",
   "id": "dcafe776-ca04-4a9d-bbad-31464ce8abb0",
   "metadata": {},
   "source": [
    "While it may look like Loving Life is the clear choice, it is important to mention certain membership perks that come with each membership."
   ]
  },
  {
   "cell_type": "markdown",
   "id": "44dea882-f3fd-4fc8-9337-08d3a84afb2c",
   "metadata": {},
   "source": [
    "'Loving Life' offers a free initial Personal Training session, valued at $75."
   ]
  },
  {
   "cell_type": "code",
   "execution_count": 10,
   "id": "7675f62f-1e44-4682-ad38-bdc5137160ed",
   "metadata": {},
   "outputs": [
    {
     "data": {
      "text/plain": [
       "177"
      ]
     },
     "execution_count": 10,
     "metadata": {},
     "output_type": "execute_result"
    }
   ],
   "source": [
    "Adj_LovingLife = LovingLife - 75\n",
    "Adj_LovingLife"
   ]
  },
  {
   "cell_type": "markdown",
   "id": "7eb83e4e-aa14-438f-948e-70931c381781",
   "metadata": {},
   "source": [
    "'Energy' offers 5 hours of Personal Training, valued at $410. After the adjustments, it is actually cheaper than Loving Life."
   ]
  },
  {
   "cell_type": "code",
   "execution_count": 13,
   "id": "40cebd0b-4b89-4967-b63c-de67b29bf959",
   "metadata": {},
   "outputs": [
    {
     "data": {
      "text/plain": [
       "120"
      ]
     },
     "execution_count": 13,
     "metadata": {},
     "output_type": "execute_result"
    }
   ],
   "source": [
    "Adj_Energy = Energy - 410\n",
    "Adj_Energy"
   ]
  },
  {
   "cell_type": "markdown",
   "id": "127959d1-a544-412c-9c1e-6551b09b956e",
   "metadata": {},
   "source": [
    " "
   ]
  },
  {
   "cell_type": "markdown",
   "id": "02f1424a-0c0a-4622-8237-3e432de49fdd",
   "metadata": {},
   "source": [
    "When quantifying the value of what the Women's Fitness club was calling 'an investment in myself', I wanted to factor in the probable cost per use. In other words, 'Girl Math'."
   ]
  },
  {
   "cell_type": "markdown",
   "id": "d7df0a1c-2d5c-4981-bfd0-625495c7d8a3",
   "metadata": {},
   "source": [
    "I am a practicing technocrat when it comes to working out -- having an expert help with my form gives me the confidence to excercise on my own. If I am worried my form is bad, I worry I am doing more harm than good, and in turn, I do nothing. In this way, more Personal Training would *inspire* more visits to the gym, and better workouts while at the gym. "
   ]
  },
  {
   "cell_type": "markdown",
   "id": "eab69682-60b0-42e9-9add-448fdd57ce26",
   "metadata": {},
   "source": [
    "In New York I'd been going to the gym three times a week on average. Some weeks are busier than others, of course, so I figured there's probably a 35% chance I go to the gym on any given day with the 'Loving Life' membership. With the front-loaded commitment of 5 hours with a Personal Trainer, I believed the 'Energy' membership would almost certainly impart a stronger sense of routine. I thought there was a 60% I would go on a given day."
   ]
  },
  {
   "cell_type": "markdown",
   "id": "68dfded4-c6b0-4bcb-9312-07224862c2fb",
   "metadata": {},
   "source": [
    "Getting to the gym is only half the battle. Then you have to workout. As stated, without instruction I would probably not exert myself as hard. With the Loving Life membership, there was a 75% chance I would stick to a 1950's sense of calisthenics. With the help from my trainer, I would almost certainly be 'leaving it all on the mat' 85% of the time."
   ]
  },
  {
   "cell_type": "markdown",
   "id": "58f6f152-572d-4acb-b50e-c0ef3c3a5e14",
   "metadata": {},
   "source": [
    "First I made my variables."
   ]
  },
  {
   "cell_type": "code",
   "execution_count": 40,
   "id": "b93f0e80-2e44-4250-92b0-9a361b61eb29",
   "metadata": {},
   "outputs": [],
   "source": [
    "LL_Visit = 0.35\n",
    "LL_Exert = 0.75\n",
    "E_Visit = 0.6\n",
    "E_Exert = 0.85"
   ]
  },
  {
   "cell_type": "markdown",
   "id": "f652ec68-79b4-401a-8490-ddd9d41dbd3b",
   "metadata": {},
   "source": [
    "Then I asked my first question: What was the likelihood I would exert myself, given I had purchased the Loving Life membership?"
   ]
  },
  {
   "cell_type": "code",
   "execution_count": 41,
   "id": "cfd5c6f1-eeb6-4fe1-b15f-b8a7d5712f87",
   "metadata": {},
   "outputs": [
    {
     "data": {
      "text/plain": [
       "0.3398058252427184"
      ]
     },
     "execution_count": 41,
     "metadata": {},
     "output_type": "execute_result"
    }
   ],
   "source": [
    "P_LovingLife = (LL_Visit * LL_Exert) / ((LL_Visit * LL_Exert) + (E_Visit * E_Exert))\n",
    "P_LovingLife"
   ]
  },
  {
   "cell_type": "markdown",
   "id": "63d03791-d403-4f13-b82d-657d03221d43",
   "metadata": {},
   "source": [
    "I then compared it to the likelihood I would exert myself, given I had purchased the Energy membership:"
   ]
  },
  {
   "cell_type": "code",
   "execution_count": 43,
   "id": "c9836dbd-8723-4e1d-9d76-a913002b66cd",
   "metadata": {},
   "outputs": [
    {
     "data": {
      "text/plain": [
       "0.6601941747572816"
      ]
     },
     "execution_count": 43,
     "metadata": {},
     "output_type": "execute_result"
    }
   ],
   "source": [
    "P_Energy = (E_Visit * E_Exert) / ((E_Visit * E_Exert) + (LL_Visit * LL_Exert))\n",
    "P_Energy"
   ]
  },
  {
   "cell_type": "markdown",
   "id": "cc7a2785-452e-4259-a28d-68b1b7929d84",
   "metadata": {},
   "source": [
    "These were the probability percentages for any given day, so I multiplied it by roughly 3 months, to better understand how many days I would be visiting the gym and working out -- not just b-lining it for the Sauna. With the Loving Life membership, I would probably work out 41 days."
   ]
  },
  {
   "cell_type": "code",
   "execution_count": 30,
   "id": "0d734850-84aa-4761-af43-0e3711608e1c",
   "metadata": {},
   "outputs": [
    {
     "data": {
      "text/plain": [
       "40.776699029126206"
      ]
     },
     "execution_count": 30,
     "metadata": {},
     "output_type": "execute_result"
    }
   ],
   "source": [
    "Days = 120\n",
    "LL_Days = P_LovingLife * Days\n",
    "LL_Days"
   ]
  },
  {
   "cell_type": "markdown",
   "id": "6560c6a9-7f7c-4b6f-8ea1-9b2bf56dafdc",
   "metadata": {},
   "source": [
    "With the Energy membership, I could expect to go to the gym 79 times while I was back in town."
   ]
  },
  {
   "cell_type": "code",
   "execution_count": 38,
   "id": "fe06dcda-17c7-4802-9593-554e6808d363",
   "metadata": {},
   "outputs": [
    {
     "data": {
      "text/plain": [
       "79.2233009708738"
      ]
     },
     "execution_count": 38,
     "metadata": {},
     "output_type": "execute_result"
    }
   ],
   "source": [
    "E_Days = P_Energy * Days\n",
    "E_Days"
   ]
  },
  {
   "cell_type": "markdown",
   "id": "5ff31656-82f2-4de2-a9f2-bcc1fe078e2b",
   "metadata": {},
   "source": [
    "The final step to predict the price per visit would be to divide the Loving Life cost by the amount of days I would go. I debated using the adjusted price, but that neglected the economic reality of how much I would be paying for the membership."
   ]
  },
  {
   "cell_type": "code",
   "execution_count": 37,
   "id": "a6dabf72-9440-402a-9515-9e5bb65b8082",
   "metadata": {},
   "outputs": [
    {
     "data": {
      "text/plain": [
       "6.1800000000000015"
      ]
     },
     "execution_count": 37,
     "metadata": {},
     "output_type": "execute_result"
    }
   ],
   "source": [
    "PricePer_LovingLife = LovingLife / LL_Days \n",
    "PricePer_LovingLife"
   ]
  },
  {
   "cell_type": "markdown",
   "id": "f6b50928-b0e7-4f7d-bbce-26af73079e00",
   "metadata": {},
   "source": [
    "While the Joining Fee still sets the Energy plan up to be more expensive, it will probably inspire almost 2x more engagement than the Loving Life plan, and the $180 difference washes out to roughly 50 cents more per visit."
   ]
  },
  {
   "cell_type": "code",
   "execution_count": 39,
   "id": "235ce67f-4874-45cd-b5c1-ac6c7ad62b6a",
   "metadata": {},
   "outputs": [
    {
     "data": {
      "text/plain": [
       "6.689950980392156"
      ]
     },
     "execution_count": 39,
     "metadata": {},
     "output_type": "execute_result"
    }
   ],
   "source": [
    "PricePer_Energy = Energy / E_Days\n",
    "PricePer_Energy"
   ]
  },
  {
   "cell_type": "markdown",
   "id": "6e518ff0-3261-4b49-894a-50ec62c4d0b7",
   "metadata": {},
   "source": [
    "In conclusion, the Energy membership is more expensive in terms of cost and price per use, but this shifts when we factor in the additional value of such amenities as Personal Training, that would surely incentivize more time spent at the gym. Given my current goal to increase cardio while working remotely, I will move forward with the Energy plan! "
   ]
  },
  {
   "cell_type": "code",
   "execution_count": null,
   "id": "1dda29f7-233a-4134-867a-de7033eed9f0",
   "metadata": {},
   "outputs": [],
   "source": []
  }
 ],
 "metadata": {
  "kernelspec": {
   "display_name": "Python 3 (ipykernel)",
   "language": "python",
   "name": "python3"
  },
  "language_info": {
   "codemirror_mode": {
    "name": "ipython",
    "version": 3
   },
   "file_extension": ".py",
   "mimetype": "text/x-python",
   "name": "python",
   "nbconvert_exporter": "python",
   "pygments_lexer": "ipython3",
   "version": "3.9.18"
  }
 },
 "nbformat": 4,
 "nbformat_minor": 5
}
